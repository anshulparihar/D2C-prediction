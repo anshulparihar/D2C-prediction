{
 "cells": [
  {
   "cell_type": "code",
   "execution_count": 692,
   "id": "a026da08",
   "metadata": {},
   "outputs": [],
   "source": [
    "import pandas as pd\n",
    "import numpy as np\n",
    "import matplotlib.pyplot as plt\n",
    "import seaborn as sns\n",
    "from sklearn.preprocessing import StandardScaler\n",
    "from sklearn.model_selection import train_test_split\n",
    "from sklearn.metrics import classification_report,accuracy_score\n",
    "from sklearn.tree import DecisionTreeClassifier\n",
    "from sklearn.ensemble import RandomForestClassifier,AdaBoostClassifier\n",
    "from xgboost import XGBClassifier\n",
    "import lightgbm as lgb"
   ]
  },
  {
   "cell_type": "code",
   "execution_count": 693,
   "id": "ac90bbf8",
   "metadata": {},
   "outputs": [],
   "source": [
    "train_df = pd.read_csv('train_wn75k28.csv')"
   ]
  },
  {
   "cell_type": "code",
   "execution_count": 696,
   "id": "95ccd1e2",
   "metadata": {},
   "outputs": [],
   "source": [
    "train_df[['created_at','signup_date']] = train_df[['created_at','signup_date']].apply(pd.to_datetime)"
   ]
  },
  {
   "cell_type": "markdown",
   "id": "37c5d007",
   "metadata": {},
   "source": [
    "##### Dealing with null values in products_purchased"
   ]
  },
  {
   "cell_type": "code",
   "execution_count": 698,
   "id": "92e1c35e",
   "metadata": {},
   "outputs": [],
   "source": [
    "mode_value=train_df['products_purchased'].mode()[0]"
   ]
  },
  {
   "cell_type": "code",
   "execution_count": 699,
   "id": "174be77d",
   "metadata": {},
   "outputs": [
    {
     "data": {
      "text/plain": [
       "2.0"
      ]
     },
     "execution_count": 699,
     "metadata": {},
     "output_type": "execute_result"
    }
   ],
   "source": [
    "mode_value"
   ]
  },
  {
   "cell_type": "code",
   "execution_count": 700,
   "id": "3168c7b3",
   "metadata": {},
   "outputs": [],
   "source": [
    "train_df['products_purchased'].fillna(value =mode_value ,inplace = True)"
   ]
  },
  {
   "cell_type": "markdown",
   "id": "3799c585",
   "metadata": {},
   "source": [
    "##### Dealing with Null values in signup date"
   ]
  },
  {
   "cell_type": "code",
   "execution_count": 702,
   "id": "89be7f0b",
   "metadata": {},
   "outputs": [],
   "source": [
    "signup_data_list = train_df['signup_date'].dt.date.unique().tolist()"
   ]
  },
  {
   "cell_type": "code",
   "execution_count": 704,
   "id": "c19c6d9d",
   "metadata": {},
   "outputs": [],
   "source": [
    "created_at_list = train_df['created_at'].dt.date.unique().tolist()"
   ]
  },
  {
   "cell_type": "code",
   "execution_count": 706,
   "id": "6af2cec0",
   "metadata": {},
   "outputs": [],
   "source": [
    "train_df['signup_date'].fillna(train_df['created_at'], inplace=True)"
   ]
  },
  {
   "cell_type": "markdown",
   "id": "d4fb603f",
   "metadata": {},
   "source": [
    "##### Splitting created_at and signup_date into date,month and year column"
   ]
  },
  {
   "cell_type": "code",
   "execution_count": 709,
   "id": "9697f5db",
   "metadata": {},
   "outputs": [],
   "source": [
    "train_df['created_at_date'] = train_df['created_at'].dt.day\n",
    "train_df['created_at_month'] = train_df['created_at'].dt.month\n",
    "train_df['created_at_year'] = train_df['created_at'].dt.year\n",
    "train_df['signup_date_date'] = train_df['signup_date'].dt.day\n",
    "train_df['signup_date_month'] = train_df['signup_date'].dt.month\n",
    "train_df['signup_date_year'] = train_df['signup_date'].dt.year"
   ]
  },
  {
   "cell_type": "markdown",
   "id": "86530486",
   "metadata": {},
   "source": [
    "##### Dropping created_At and signup_date column"
   ]
  },
  {
   "cell_type": "code",
   "execution_count": 711,
   "id": "2279eaa3",
   "metadata": {},
   "outputs": [],
   "source": [
    "train_df.drop(columns = ['created_at','signup_date'],inplace= True)"
   ]
  },
  {
   "cell_type": "code",
   "execution_count": 713,
   "id": "f6e4ce46",
   "metadata": {},
   "outputs": [],
   "source": [
    "train_df.set_index('id',drop=True,inplace = True)"
   ]
  },
  {
   "cell_type": "code",
   "execution_count": 715,
   "id": "303164e7",
   "metadata": {},
   "outputs": [],
   "source": [
    "train_df_collist = train_df.columns.to_list()"
   ]
  },
  {
   "cell_type": "code",
   "execution_count": 717,
   "id": "e76a48d0",
   "metadata": {},
   "outputs": [],
   "source": [
    "train_df['products_purchased'] = train_df['products_purchased'].astype(np.int64)"
   ]
  },
  {
   "cell_type": "markdown",
   "id": "920adada",
   "metadata": {},
   "source": [
    "##### Seperating Feature and Target Column"
   ]
  },
  {
   "cell_type": "code",
   "execution_count": 719,
   "id": "dc6864af",
   "metadata": {},
   "outputs": [],
   "source": [
    "X = train_df.drop(columns = ['buy'])\n",
    "y = train_df['buy']"
   ]
  },
  {
   "cell_type": "code",
   "execution_count": 720,
   "id": "9873f30f",
   "metadata": {},
   "outputs": [],
   "source": [
    "\n",
    "\n",
    "scaler = StandardScaler()\n",
    "X_feature = X\n",
    "X = scaler.fit_transform(X)"
   ]
  },
  {
   "cell_type": "code",
   "execution_count": 721,
   "id": "ff81bf48",
   "metadata": {},
   "outputs": [],
   "source": [
    "X_train,X_test,y_train,y_test = train_test_split(X,y,test_size = .25,random_state = 0)"
   ]
  },
  {
   "cell_type": "markdown",
   "id": "6083badf",
   "metadata": {},
   "source": [
    "##### Creating Models"
   ]
  },
  {
   "cell_type": "markdown",
   "id": "9abd9482",
   "metadata": {},
   "source": [
    "###### ADA Boost"
   ]
  },
  {
   "cell_type": "code",
   "execution_count": 722,
   "id": "8407fd2f",
   "metadata": {},
   "outputs": [
    {
     "name": "stdout",
     "output_type": "stream",
     "text": [
      "Accuracy:  0.9746706158717189\n",
      "classification Report\n",
      "               precision    recall  f1-score   support\n",
      "\n",
      "           0       0.98      1.00      0.99      9284\n",
      "           1       0.95      0.54      0.69       507\n",
      "\n",
      "    accuracy                           0.97      9791\n",
      "   macro avg       0.96      0.77      0.84      9791\n",
      "weighted avg       0.97      0.97      0.97      9791\n",
      "\n"
     ]
    }
   ],
   "source": [
    "#ADABOOST\n",
    "\n",
    "model_AB = AdaBoostClassifier(n_estimators = 400,learning_rate=1.02,algorithm = 'SAMME.R')\n",
    "model_AB.fit(X_train,y_train)\n",
    "y_pred_AB = model_AB.predict(X_test)\n",
    "print(\"Accuracy: \",accuracy_score(y_test,y_pred_AB))\n",
    "print(\"classification Report\\n\",classification_report(y_test,y_pred_AB))"
   ]
  },
  {
   "cell_type": "code",
   "execution_count": 723,
   "id": "ef1514e4",
   "metadata": {},
   "outputs": [
    {
     "data": {
      "text/plain": [
       "0.6892230576441102"
      ]
     },
     "execution_count": 723,
     "metadata": {},
     "output_type": "execute_result"
    }
   ],
   "source": [
    "f1_score(y_test, y_pred_AB)"
   ]
  },
  {
   "cell_type": "markdown",
   "id": "cb1a5578",
   "metadata": {},
   "source": [
    "###### Testing on test data"
   ]
  },
  {
   "cell_type": "code",
   "execution_count": 724,
   "id": "89db0a42",
   "metadata": {},
   "outputs": [],
   "source": [
    "test_df = pd.read_csv('test_Wf7sxXF.csv')"
   ]
  },
  {
   "cell_type": "code",
   "execution_count": 726,
   "id": "163e5449",
   "metadata": {},
   "outputs": [],
   "source": [
    "mode_value=test_df['products_purchased'].mode()[0]"
   ]
  },
  {
   "cell_type": "code",
   "execution_count": 727,
   "id": "174be77d",
   "metadata": {},
   "outputs": [
    {
     "data": {
      "text/plain": [
       "2.0"
      ]
     },
     "execution_count": 727,
     "metadata": {},
     "output_type": "execute_result"
    }
   ],
   "source": [
    "mode_value"
   ]
  },
  {
   "cell_type": "code",
   "execution_count": 728,
   "id": "3168c7b3",
   "metadata": {},
   "outputs": [],
   "source": [
    "test_df['products_purchased'].fillna(value =mode_value ,inplace = True)"
   ]
  },
  {
   "cell_type": "code",
   "execution_count": 729,
   "id": "138586d2",
   "metadata": {},
   "outputs": [],
   "source": [
    "test_df[['created_at','signup_date']] = test_df[['created_at','signup_date']].apply(pd.to_datetime)"
   ]
  },
  {
   "cell_type": "markdown",
   "id": "3799c585",
   "metadata": {},
   "source": [
    "##### Dealing with Null values in signup date"
   ]
  },
  {
   "cell_type": "code",
   "execution_count": 730,
   "id": "89be7f0b",
   "metadata": {},
   "outputs": [],
   "source": [
    "signup_data_list = test_df['signup_date'].dt.date.unique().tolist()"
   ]
  },
  {
   "cell_type": "code",
   "execution_count": 731,
   "id": "c19c6d9d",
   "metadata": {},
   "outputs": [],
   "source": [
    "created_at_list = test_df['created_at'].dt.date.unique().tolist()"
   ]
  },
  {
   "cell_type": "code",
   "execution_count": 732,
   "id": "6af2cec0",
   "metadata": {},
   "outputs": [],
   "source": [
    "test_df['signup_date'].fillna(test_df['created_at'], inplace=True)"
   ]
  },
  {
   "cell_type": "markdown",
   "id": "d4fb603f",
   "metadata": {},
   "source": [
    "##### Splitting created_at and signup_date into date,month and year column"
   ]
  },
  {
   "cell_type": "code",
   "execution_count": 733,
   "id": "9697f5db",
   "metadata": {},
   "outputs": [],
   "source": [
    "test_df['created_at_date'] = test_df['created_at'].dt.day\n",
    "test_df['created_at_month'] = test_df['created_at'].dt.month\n",
    "test_df['created_at_year'] = test_df['created_at'].dt.year\n",
    "test_df['signup_date_date'] = test_df['signup_date'].dt.day\n",
    "test_df['signup_date_month'] = test_df['signup_date'].dt.month\n",
    "test_df['signup_date_year'] = test_df['signup_date'].dt.year"
   ]
  },
  {
   "cell_type": "markdown",
   "id": "86530486",
   "metadata": {},
   "source": [
    "##### Dropping created_At and signup_date column"
   ]
  },
  {
   "cell_type": "code",
   "execution_count": 734,
   "id": "2279eaa3",
   "metadata": {},
   "outputs": [],
   "source": [
    "test_df.drop(columns = ['created_at','signup_date'],inplace= True)"
   ]
  },
  {
   "cell_type": "code",
   "execution_count": 735,
   "id": "f6e4ce46",
   "metadata": {},
   "outputs": [],
   "source": [
    "test_df.set_index('id',drop=True,inplace = True)"
   ]
  },
  {
   "cell_type": "code",
   "execution_count": 736,
   "id": "303164e7",
   "metadata": {},
   "outputs": [],
   "source": [
    "train_df_collist = test_df.columns.to_list()"
   ]
  },
  {
   "cell_type": "code",
   "execution_count": 738,
   "id": "00f2131c",
   "metadata": {},
   "outputs": [],
   "source": [
    "test_df['products_purchased'] = test_df['products_purchased'].astype(np.int64)"
   ]
  },
  {
   "cell_type": "code",
   "execution_count": 740,
   "id": "7cafd061",
   "metadata": {},
   "outputs": [],
   "source": [
    "#df1.index.equals(df2.index)"
   ]
  },
  {
   "cell_type": "markdown",
   "id": "920adada",
   "metadata": {},
   "source": [
    "##### Seperating Feature and Target Column"
   ]
  },
  {
   "cell_type": "code",
   "execution_count": 741,
   "id": "fe5566c9",
   "metadata": {},
   "outputs": [],
   "source": [
    "\n",
    "\n",
    "scaler = StandardScaler()\n",
    "X_feature = X\n",
    "X_testdata = scaler.fit_transform(test_df)"
   ]
  },
  {
   "cell_type": "code",
   "execution_count": 742,
   "id": "b9e0196d",
   "metadata": {},
   "outputs": [],
   "source": [
    "#ADABOOST\n",
    "y_pred_AB = model_AB.predict(X_testdata)\n"
   ]
  },
  {
   "cell_type": "code",
   "execution_count": 743,
   "id": "3b19cb68",
   "metadata": {},
   "outputs": [
    {
     "data": {
      "text/plain": [
       "array([1, 0, 0, ..., 0, 0, 0], dtype=int64)"
      ]
     },
     "execution_count": 743,
     "metadata": {},
     "output_type": "execute_result"
    }
   ],
   "source": [
    "y_pred_AB"
   ]
  },
  {
   "cell_type": "code",
   "execution_count": 745,
   "id": "4d0c8b20",
   "metadata": {},
   "outputs": [],
   "source": [
    "submit_data = pd.DataFrame(index=test_df.index)"
   ]
  },
  {
   "cell_type": "code",
   "execution_count": 747,
   "id": "e2114834",
   "metadata": {},
   "outputs": [],
   "source": [
    "submit_data['buy']  =y_pred_AB"
   ]
  },
  {
   "cell_type": "code",
   "execution_count": 751,
   "id": "9bf4deb3",
   "metadata": {},
   "outputs": [],
   "source": [
    "submit_data.to_csv('submission.csv')"
   ]
  },
  {
   "cell_type": "code",
   "execution_count": null,
   "id": "d05075cd",
   "metadata": {},
   "outputs": [],
   "source": []
  }
 ],
 "metadata": {
  "kernelspec": {
   "display_name": "Python 3 (ipykernel)",
   "language": "python",
   "name": "python3"
  },
  "language_info": {
   "codemirror_mode": {
    "name": "ipython",
    "version": 3
   },
   "file_extension": ".py",
   "mimetype": "text/x-python",
   "name": "python",
   "nbconvert_exporter": "python",
   "pygments_lexer": "ipython3",
   "version": "3.9.8"
  },
  "toc": {
   "base_numbering": 1,
   "nav_menu": {},
   "number_sections": true,
   "sideBar": true,
   "skip_h1_title": false,
   "title_cell": "Table of Contents",
   "title_sidebar": "Contents",
   "toc_cell": false,
   "toc_position": {},
   "toc_section_display": true,
   "toc_window_display": true
  }
 },
 "nbformat": 4,
 "nbformat_minor": 5
}
